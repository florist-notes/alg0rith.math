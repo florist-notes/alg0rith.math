{
  "nbformat": 4,
  "nbformat_minor": 0,
  "metadata": {
    "colab": {
      "provenance": []
    },
    "kernelspec": {
      "name": "python3",
      "display_name": "Python 3"
    },
    "language_info": {
      "name": "python"
    }
  },
  "cells": [
    {
      "cell_type": "markdown",
      "source": [
        "Generators:"
      ],
      "metadata": {
        "id": "wAeUZ_KbEWod"
      }
    },
    {
      "cell_type": "code",
      "source": [
        "import random\n",
        "\n",
        "def lottery():\n",
        "    # returns 6 numbers between 1 and 40\n",
        "    for i in range(6):\n",
        "        yield random.randint(1, 40)\n",
        "\n",
        "    # returns a 7th number between 1 and 15\n",
        "    yield random.randint(1, 15)\n",
        "\n",
        "for random_number in lottery():\n",
        "       print(\"And the next number is... %d!\" %(random_number))"
      ],
      "metadata": {
        "colab": {
          "base_uri": "https://localhost:8080/"
        },
        "id": "lbf8VKGYEXIR",
        "outputId": "fffb9546-0ef7-40dc-a5dc-a2b229b20916"
      },
      "execution_count": 1,
      "outputs": [
        {
          "output_type": "stream",
          "name": "stdout",
          "text": [
            "And the next number is... 33!\n",
            "And the next number is... 36!\n",
            "And the next number is... 4!\n",
            "And the next number is... 8!\n",
            "And the next number is... 13!\n",
            "And the next number is... 25!\n",
            "And the next number is... 2!\n"
          ]
        }
      ]
    },
    {
      "cell_type": "code",
      "source": [
        "x = lottery()\n",
        "print(next(x))"
      ],
      "metadata": {
        "colab": {
          "base_uri": "https://localhost:8080/"
        },
        "id": "C79G9XXcI-FX",
        "outputId": "c2bca142-675c-43ea-9593-49f849c27e92"
      },
      "execution_count": 2,
      "outputs": [
        {
          "output_type": "stream",
          "name": "stdout",
          "text": [
            "37\n"
          ]
        }
      ]
    },
    {
      "cell_type": "code",
      "source": [
        "print(next(x))"
      ],
      "metadata": {
        "colab": {
          "base_uri": "https://localhost:8080/"
        },
        "id": "I1zlwW9yJRu6",
        "outputId": "2cfa2617-e4cc-4cff-8ead-95b276758e90"
      },
      "execution_count": 3,
      "outputs": [
        {
          "output_type": "stream",
          "name": "stdout",
          "text": [
            "18\n"
          ]
        }
      ]
    },
    {
      "cell_type": "code",
      "source": [
        "\n",
        "# A simple generator for Fibonacci Numbers\n",
        "def fib(limit):\n",
        "\n",
        "    # Initialize first two Fibonacci Numbers\n",
        "    a, b = 0, 1\n",
        "\n",
        "    # One by one yield next Fibonacci Number\n",
        "    while a < limit:\n",
        "        yield a\n",
        "        a, b = b, a + b\n",
        "\n",
        "# Create a generator object\n",
        "x = fib(5)\n",
        "\n",
        "# Iterating over the generator object using next\n",
        "# In Python 3, __next__()\n",
        "print(next(x))\n",
        "print(next(x))\n",
        "print(next(x))\n",
        "print(next(x))\n",
        "print(next(x))\n",
        "\n",
        "# Iterating over the generator object using for\n",
        "# in loop.\n",
        "print(\"\\nUsing for in loop\")\n",
        "for i in fib(5):\n",
        "    print(i)"
      ],
      "metadata": {
        "colab": {
          "base_uri": "https://localhost:8080/"
        },
        "id": "IFtAkWwsJT87",
        "outputId": "74f7733a-13e3-4783-d8f1-e6807cc649fa"
      },
      "execution_count": 4,
      "outputs": [
        {
          "output_type": "stream",
          "name": "stdout",
          "text": [
            "0\n",
            "1\n",
            "1\n",
            "2\n",
            "3\n",
            "\n",
            "Using for in loop\n",
            "0\n",
            "1\n",
            "1\n",
            "2\n",
            "3\n"
          ]
        }
      ]
    },
    {
      "cell_type": "markdown",
      "source": [
        "The generator expression in Python has the following Syntax: https://realpython.com/introduction-to-python-generators/\n",
        "\n",
        "(expression for item in iterable)"
      ],
      "metadata": {
        "id": "wYOmZFydJpge"
      }
    },
    {
      "cell_type": "code",
      "source": [
        "\n",
        "# generator expression\n",
        "generator_exp = (i * 5 for i in range(5) if i%2==0)\n",
        "\n",
        "for i in generator_exp:\n",
        "    print(i)"
      ],
      "metadata": {
        "colab": {
          "base_uri": "https://localhost:8080/"
        },
        "id": "4WjJz2SGJdZH",
        "outputId": "876ea67b-b817-4e2c-d16b-37a2eb2ace3b"
      },
      "execution_count": 5,
      "outputs": [
        {
          "output_type": "stream",
          "name": "stdout",
          "text": [
            "0\n",
            "10\n",
            "20\n"
          ]
        }
      ]
    },
    {
      "cell_type": "markdown",
      "source": [
        "List Comprehensions"
      ],
      "metadata": {
        "id": "oMP9y3cpLJsK"
      }
    },
    {
      "cell_type": "code",
      "source": [
        "sentence = \"the quick brown fox jumps over the lazy dog\"\n",
        "words = sentence.split()\n",
        "word_lengths = []\n",
        "for word in words:\n",
        "      if word != \"the\":\n",
        "          word_lengths.append(len(word))\n",
        "print(words)\n",
        "print(word_lengths)"
      ],
      "metadata": {
        "colab": {
          "base_uri": "https://localhost:8080/"
        },
        "id": "wtc0CmKEJsis",
        "outputId": "8c0b1ddf-c18a-4ec4-96ec-3f3506ad5acf"
      },
      "execution_count": 6,
      "outputs": [
        {
          "output_type": "stream",
          "name": "stdout",
          "text": [
            "['the', 'quick', 'brown', 'fox', 'jumps', 'over', 'the', 'lazy', 'dog']\n",
            "[5, 5, 3, 5, 4, 4, 3]\n"
          ]
        }
      ]
    },
    {
      "cell_type": "code",
      "source": [
        "sentence = \"the quick brown fox jumps over the lazy dog\"\n",
        "words = sentence.split()\n",
        "\n",
        "word_lengths = [len(word) for word in words if word != \"the\"]\n",
        "\n",
        "print(words)\n",
        "print(word_lengths)"
      ],
      "metadata": {
        "colab": {
          "base_uri": "https://localhost:8080/"
        },
        "id": "jtcMBgt4LLkM",
        "outputId": "c5115aa2-b316-443b-96c2-b952cbf5fb94"
      },
      "execution_count": 7,
      "outputs": [
        {
          "output_type": "stream",
          "name": "stdout",
          "text": [
            "['the', 'quick', 'brown', 'fox', 'jumps', 'over', 'the', 'lazy', 'dog']\n",
            "[5, 5, 3, 5, 4, 4, 3]\n"
          ]
        }
      ]
    },
    {
      "cell_type": "markdown",
      "source": [
        "Lambda Functions : they also called anonymous functions. We define a lambda function using the keyword lambda.\n"
      ],
      "metadata": {
        "id": "2J7fOCTMLgAc"
      }
    },
    {
      "cell_type": "markdown",
      "source": [
        "your_function_name = lambda inputs : output"
      ],
      "metadata": {
        "id": "aACOU4G7LmR3"
      }
    },
    {
      "cell_type": "code",
      "source": [
        "a = 1\n",
        "b = 2\n",
        "\n",
        "sum = lambda x,y : x + y\n",
        "\n",
        "c = sum(a,b)\n",
        "print(c)"
      ],
      "metadata": {
        "colab": {
          "base_uri": "https://localhost:8080/"
        },
        "id": "gadc8z80LU72",
        "outputId": "9b38a38e-3f7e-4bf3-c6e8-c0516218a4b0"
      },
      "execution_count": 8,
      "outputs": [
        {
          "output_type": "stream",
          "name": "stdout",
          "text": [
            "3\n"
          ]
        }
      ]
    },
    {
      "cell_type": "markdown",
      "source": [
        "The \"therest\" variable is a list of variables, which receives all arguments which were given to the \"foo\" function after the first 3 arguments. So calling foo(1, 2, 3, 4, 5) will print out:\n",
        "\n"
      ],
      "metadata": {
        "id": "BdFDtgaQMC0Y"
      }
    },
    {
      "cell_type": "code",
      "source": [
        "def foo(first, second, third, *therest):\n",
        "    print(\"First: %s\" %(first))\n",
        "    print(\"Second: %s\" %(second))\n",
        "    print(\"Third: %s\" %(third))\n",
        "    print(\"And all the rest... %s\" %(list(therest)))\n",
        "\n",
        "foo(1, 2, 3, 4, 5)"
      ],
      "metadata": {
        "colab": {
          "base_uri": "https://localhost:8080/"
        },
        "id": "FpqAX5kYLzHa",
        "outputId": "1b5c1448-84a7-4f79-c669-e3355d687fe7"
      },
      "execution_count": 9,
      "outputs": [
        {
          "output_type": "stream",
          "name": "stdout",
          "text": [
            "First: 1\n",
            "Second: 2\n",
            "Third: 3\n",
            "And all the rest... [4, 5]\n"
          ]
        }
      ]
    },
    {
      "cell_type": "code",
      "source": [
        "foo(1, 2, 3, 4, 5, 6, 7, 8, 9)"
      ],
      "metadata": {
        "colab": {
          "base_uri": "https://localhost:8080/"
        },
        "id": "_kdTbIfWMGn-",
        "outputId": "1223a06c-aa2f-44aa-de1b-762a85fb9984"
      },
      "execution_count": 11,
      "outputs": [
        {
          "output_type": "stream",
          "name": "stdout",
          "text": [
            "First: 1\n",
            "Second: 2\n",
            "Third: 3\n",
            "And all the rest... [4, 5, 6, 7, 8, 9]\n"
          ]
        }
      ]
    },
    {
      "cell_type": "code",
      "source": [
        "def bar(first, second, third, **options):\n",
        "    if options.get(\"action\") == \"sum\":\n",
        "        print(\"The sum is: %d\" %(first + second + third))\n",
        "\n",
        "    if options.get(\"number\") == \"first\":\n",
        "        return first\n",
        "\n",
        "result = bar(1, 2, 3, action = \"sum\", number = \"first\")\n",
        "print(\"Result: %d\" %(result))"
      ],
      "metadata": {
        "colab": {
          "base_uri": "https://localhost:8080/"
        },
        "id": "a_TfXtX4MJdN",
        "outputId": "c21162a6-2d18-4896-b754-fc14a57f4c60"
      },
      "execution_count": 12,
      "outputs": [
        {
          "output_type": "stream",
          "name": "stdout",
          "text": [
            "The sum is: 6\n",
            "Result: 1\n"
          ]
        }
      ]
    },
    {
      "cell_type": "markdown",
      "source": [
        "**Exception Handling:**"
      ],
      "metadata": {
        "id": "iPcbOPYXNKuX"
      }
    },
    {
      "cell_type": "code",
      "source": [
        "def do_stuff_with_number(n):\n",
        "    print(n)\n",
        "\n",
        "def catch_this():\n",
        "    the_list = (1, 2, 3, 4, 5)\n",
        "\n",
        "    for i in range(20):\n",
        "        try:\n",
        "            do_stuff_with_number(the_list[i])\n",
        "        except IndexError: # Raised when accessing a non-existing index of a list\n",
        "            do_stuff_with_number(0)\n",
        "\n",
        "catch_this()"
      ],
      "metadata": {
        "colab": {
          "base_uri": "https://localhost:8080/"
        },
        "id": "kMZkKXz-MZgi",
        "outputId": "7f33d8a8-6c96-4e75-eea6-5df6894c570d"
      },
      "execution_count": 13,
      "outputs": [
        {
          "output_type": "stream",
          "name": "stdout",
          "text": [
            "1\n",
            "2\n",
            "3\n",
            "4\n",
            "5\n",
            "0\n",
            "0\n",
            "0\n",
            "0\n",
            "0\n",
            "0\n",
            "0\n",
            "0\n",
            "0\n",
            "0\n",
            "0\n",
            "0\n",
            "0\n",
            "0\n",
            "0\n"
          ]
        }
      ]
    },
    {
      "cell_type": "markdown",
      "source": [
        "Sets are lists with no duplicate entries."
      ],
      "metadata": {
        "id": "kRLknqrXNX3w"
      }
    },
    {
      "cell_type": "code",
      "source": [
        "print(set(\"my name is Saikia and Saikia is my name\".split()))"
      ],
      "metadata": {
        "colab": {
          "base_uri": "https://localhost:8080/"
        },
        "id": "CJOBtrfvNJFq",
        "outputId": "09023c59-7dd6-482d-9e02-76a2998e6331"
      },
      "execution_count": 14,
      "outputs": [
        {
          "output_type": "stream",
          "name": "stdout",
          "text": [
            "{'and', 'name', 'Saikia', 'my', 'is'}\n"
          ]
        }
      ]
    },
    {
      "cell_type": "code",
      "source": [
        "a = set([\"Jake\", \"John\", \"Eric\"])\n",
        "b = set([\"John\", \"Jill\"])\n",
        "\n",
        "print(a.intersection(b))\n",
        "print(b.intersection(a))"
      ],
      "metadata": {
        "colab": {
          "base_uri": "https://localhost:8080/"
        },
        "id": "9VBnFK1PNfuE",
        "outputId": "d7a32c9a-eb43-480b-cf49-0a158949aca0"
      },
      "execution_count": 15,
      "outputs": [
        {
          "output_type": "stream",
          "name": "stdout",
          "text": [
            "{'John'}\n",
            "{'John'}\n"
          ]
        }
      ]
    },
    {
      "cell_type": "code",
      "source": [
        "a = set([\"Jake\", \"John\", \"Eric\"])\n",
        "b = set([\"John\", \"Jill\"])\n",
        "\n",
        "print(a.symmetric_difference(b))\n",
        "print(b.symmetric_difference(a))"
      ],
      "metadata": {
        "colab": {
          "base_uri": "https://localhost:8080/"
        },
        "id": "Kon_SqIJNkpX",
        "outputId": "9cce1f07-9cc2-4633-9ec2-d98a2e9beff9"
      },
      "execution_count": 16,
      "outputs": [
        {
          "output_type": "stream",
          "name": "stdout",
          "text": [
            "{'Jake', 'Jill', 'Eric'}\n",
            "{'Jake', 'Eric', 'Jill'}\n"
          ]
        }
      ]
    },
    {
      "cell_type": "code",
      "source": [
        "a = set([\"Jake\", \"John\", \"Eric\"])\n",
        "b = set([\"John\", \"Jill\"])\n",
        "\n",
        "print(a.difference(b))\n",
        "print(b.difference(a))"
      ],
      "metadata": {
        "colab": {
          "base_uri": "https://localhost:8080/"
        },
        "id": "0XFhACN1Np4j",
        "outputId": "c69aeeb0-f245-4cde-a7eb-e803c68f68d4"
      },
      "execution_count": 17,
      "outputs": [
        {
          "output_type": "stream",
          "name": "stdout",
          "text": [
            "{'Jake', 'Eric'}\n",
            "{'Jill'}\n"
          ]
        }
      ]
    },
    {
      "cell_type": "code",
      "source": [
        "a = set([\"Jake\", \"John\", \"Eric\"])\n",
        "b = set([\"John\", \"Jill\"])\n",
        "\n",
        "print(a.union(b))"
      ],
      "metadata": {
        "colab": {
          "base_uri": "https://localhost:8080/"
        },
        "id": "bLkEX76wN2Mz",
        "outputId": "09c38145-2e41-4511-a3b2-3cdca7488695"
      },
      "execution_count": 18,
      "outputs": [
        {
          "output_type": "stream",
          "name": "stdout",
          "text": [
            "{'Eric', 'Jill', 'John', 'Jake'}\n"
          ]
        }
      ]
    },
    {
      "cell_type": "markdown",
      "source": [
        "SERIALIZATION: To encode a data structure to JSON, use the \"dumps\" method. This method takes an object and returns a String:"
      ],
      "metadata": {
        "id": "uyxpRME3OEX9"
      }
    },
    {
      "cell_type": "code",
      "source": [
        "import json\n",
        "json_string = json.dumps([1, 2, 3, \"a\", \"b\", \"c\"])\n",
        "print(json_string)"
      ],
      "metadata": {
        "colab": {
          "base_uri": "https://localhost:8080/"
        },
        "id": "ZrsmEn_eN6Q7",
        "outputId": "059142fe-3e77-4aab-9f06-a7d9e01f1afc"
      },
      "execution_count": 19,
      "outputs": [
        {
          "output_type": "stream",
          "name": "stdout",
          "text": [
            "[1, 2, 3, \"a\", \"b\", \"c\"]\n"
          ]
        }
      ]
    },
    {
      "cell_type": "code",
      "source": [
        "import pickle\n",
        "pickled_string = pickle.dumps([1, 2, 3, \"a\", \"b\", \"c\"])\n",
        "print(pickle.loads(pickled_string))"
      ],
      "metadata": {
        "colab": {
          "base_uri": "https://localhost:8080/"
        },
        "id": "iQR0WXUjOGJP",
        "outputId": "95ea1d12-ed33-4fa2-e480-ce2c2f79e1b8"
      },
      "execution_count": 20,
      "outputs": [
        {
          "output_type": "stream",
          "name": "stdout",
          "text": [
            "[1, 2, 3, 'a', 'b', 'c']\n"
          ]
        }
      ]
    },
    {
      "cell_type": "markdown",
      "source": [
        "Partial functions:"
      ],
      "metadata": {
        "id": "GbD1KIbKOh0b"
      }
    },
    {
      "cell_type": "code",
      "source": [
        "from functools import partial\n",
        "\n",
        "def multiply(x, y):\n",
        "        return x * y\n",
        "\n",
        "# create a new function that multiplies by 2\n",
        "dbl = partial(multiply, 2)\n",
        "print(dbl(4))"
      ],
      "metadata": {
        "colab": {
          "base_uri": "https://localhost:8080/"
        },
        "id": "CKngQ3_VOOfu",
        "outputId": "e7981fc7-6f3b-4ebb-cd73-cd6a270160a1"
      },
      "execution_count": 21,
      "outputs": [
        {
          "output_type": "stream",
          "name": "stdout",
          "text": [
            "8\n"
          ]
        }
      ]
    },
    {
      "cell_type": "code",
      "source": [
        "print(dbl(7))"
      ],
      "metadata": {
        "colab": {
          "base_uri": "https://localhost:8080/"
        },
        "id": "SbEw3mQ3OkDS",
        "outputId": "c76e5d97-52ec-4013-ded6-ba8ef7e0f938"
      },
      "execution_count": 22,
      "outputs": [
        {
          "output_type": "stream",
          "name": "stdout",
          "text": [
            "14\n"
          ]
        }
      ]
    },
    {
      "cell_type": "markdown",
      "source": [
        "Code Introspection Functions:\n",
        "\n",
        "\n",
        "help()\n",
        "dir()\n",
        "hasattr()\n",
        "id()\n",
        "type()\n",
        "repr()\n",
        "callable()\n",
        "issubclass()\n",
        "isinstance()\n"
      ],
      "metadata": {
        "id": "zDAA5RnNO_Aa"
      }
    },
    {
      "cell_type": "markdown",
      "source": [
        "A **Closure** is a function object that remembers values in enclosing scopes even if they are not present in memory. Let us get to it step by step\n",
        "\n",
        "Firstly, a Nested Function is a function defined inside another function. It's very important to note that the nested functions can access the variables of the enclosing scope. However, at least in python, they are only readonly. However, one can use the \"nonlocal\" keyword explicitly with these variables in order to modify them."
      ],
      "metadata": {
        "id": "WW2wBRZePob-"
      }
    },
    {
      "cell_type": "code",
      "source": [
        "def print_msg(number):\n",
        "    def printer():\n",
        "        \"Here we are using the nonlocal keyword\"\n",
        "        nonlocal number\n",
        "        number=3\n",
        "        print(number)\n",
        "    printer()\n",
        "    print(number)\n",
        "\n",
        "print_msg(9)"
      ],
      "metadata": {
        "colab": {
          "base_uri": "https://localhost:8080/"
        },
        "id": "Uuf8Zf18Om6j",
        "outputId": "20a89997-d11c-42c3-ca92-c1ab4ec31212"
      },
      "execution_count": 23,
      "outputs": [
        {
          "output_type": "stream",
          "name": "stdout",
          "text": [
            "3\n",
            "3\n"
          ]
        }
      ]
    },
    {
      "cell_type": "code",
      "source": [
        "def greet():\n",
        "    # variable defined outside the inner function\n",
        "    name = \"John\"\n",
        "\n",
        "    # return a nested anonymous function\n",
        "    return lambda: \"Hi \" + name\n",
        "\n",
        "# call the outer function\n",
        "message = greet()\n",
        "\n",
        "# call the inner function\n",
        "print(message())"
      ],
      "metadata": {
        "colab": {
          "base_uri": "https://localhost:8080/"
        },
        "id": "AbVGEgluQ3Ny",
        "outputId": "68bca650-2287-4ce8-8688-2d820bfc82fb"
      },
      "execution_count": 28,
      "outputs": [
        {
          "output_type": "stream",
          "name": "stdout",
          "text": [
            "Hi John\n"
          ]
        }
      ]
    },
    {
      "cell_type": "code",
      "source": [
        "def transmit_to_space(message):\n",
        "  \"This is the enclosing function\"\n",
        "  def data_transmitter():\n",
        "      \"The nested function\"\n",
        "      print(message)\n",
        "  return data_transmitter\n",
        "\n",
        "fun2 = transmit_to_space(\"Burn the Sun!\")\n",
        "fun2()"
      ],
      "metadata": {
        "colab": {
          "base_uri": "https://localhost:8080/"
        },
        "id": "b8heEyxtPuZ6",
        "outputId": "f2ead101-ac8a-4cf1-cf3d-017c58d608cb"
      },
      "execution_count": 24,
      "outputs": [
        {
          "output_type": "stream",
          "name": "stdout",
          "text": [
            "Burn the Sun!\n"
          ]
        }
      ]
    },
    {
      "cell_type": "markdown",
      "source": [
        "DECORATORS : a decorator is just another function which takes a functions and returns one. In Python, a decorator is a design pattern that allows you to modify the functionality of a function by wrapping it in another function.\n",
        "\n",
        "The outer function is called the decorator, which takes the original function as an argument and returns a modified version of it."
      ],
      "metadata": {
        "id": "z2ZfXKGqQWO3"
      }
    },
    {
      "cell_type": "code",
      "source": [
        "def outer(x):\n",
        "    def inner(y):\n",
        "        return x + y\n",
        "    return inner\n",
        "\n",
        "add_five = outer(5)\n",
        "result = add_five(6)\n",
        "print(result)"
      ],
      "metadata": {
        "colab": {
          "base_uri": "https://localhost:8080/"
        },
        "id": "BBr_ocXlP7Ml",
        "outputId": "4c1ab7cb-9569-42d7-977a-14d899b98e50"
      },
      "execution_count": 29,
      "outputs": [
        {
          "output_type": "stream",
          "name": "stdout",
          "text": [
            "11\n"
          ]
        }
      ]
    },
    {
      "cell_type": "code",
      "source": [
        "def add(x, y):\n",
        "    return x + y\n",
        "\n",
        "def calculate(func, x, y):\n",
        "    return func(x, y)\n",
        "\n",
        "result = calculate(add, 4, 6)\n",
        "print(result)  # prints 10"
      ],
      "metadata": {
        "colab": {
          "base_uri": "https://localhost:8080/"
        },
        "id": "TuaNU5FLQfXh",
        "outputId": "410bfc68-16e0-482a-8269-0965bfb368b4"
      },
      "execution_count": 30,
      "outputs": [
        {
          "output_type": "stream",
          "name": "stdout",
          "text": [
            "10\n"
          ]
        }
      ]
    },
    {
      "cell_type": "code",
      "source": [
        "def make_pretty(func):\n",
        "    # define the inner function\n",
        "    def inner():\n",
        "        # add some additional behavior to decorated function\n",
        "        print(\"I got decorated\")\n",
        "\n",
        "        # call original function\n",
        "        func()\n",
        "    # return the inner function\n",
        "    return inner\n",
        "\n",
        "# define ordinary function\n",
        "def ordinary():\n",
        "    print(\"I am ordinary\")\n",
        "\n",
        "# decorate the ordinary function\n",
        "decorated_func = make_pretty(ordinary)\n",
        "\n",
        "# call the decorated function\n",
        "decorated_func()"
      ],
      "metadata": {
        "colab": {
          "base_uri": "https://localhost:8080/"
        },
        "id": "7IddCGjZRrjM",
        "outputId": "9f091681-647e-4120-d145-3f414a6599d8"
      },
      "execution_count": 31,
      "outputs": [
        {
          "output_type": "stream",
          "name": "stdout",
          "text": [
            "I got decorated\n",
            "I am ordinary\n"
          ]
        }
      ]
    },
    {
      "cell_type": "code",
      "source": [
        "def make_pretty(func):\n",
        "\n",
        "    def inner():\n",
        "        print(\"I got decorated\")\n",
        "        func()\n",
        "    return inner\n",
        "\n",
        "@make_pretty\n",
        "def ordinary():\n",
        "    print(\"I am ordinary\")\n",
        "\n",
        "ordinary()"
      ],
      "metadata": {
        "colab": {
          "base_uri": "https://localhost:8080/"
        },
        "id": "OYMyhpAxSLXx",
        "outputId": "3f046829-1354-4457-e87c-2bba6523c889"
      },
      "execution_count": 32,
      "outputs": [
        {
          "output_type": "stream",
          "name": "stdout",
          "text": [
            "I got decorated\n",
            "I am ordinary\n"
          ]
        }
      ]
    },
    {
      "cell_type": "code",
      "source": [
        "def star(func):\n",
        "    def inner(*args, **kwargs):\n",
        "        print(\"*\" * 15)\n",
        "        func(*args, **kwargs)\n",
        "        print(\"*\" * 15)\n",
        "    return inner\n",
        "\n",
        "\n",
        "def percent(func):\n",
        "    def inner(*args, **kwargs):\n",
        "        print(\"%\" * 15)\n",
        "        func(*args, **kwargs)\n",
        "        print(\"%\" * 15)\n",
        "    return inner\n",
        "\n",
        "\n",
        "@star\n",
        "@percent\n",
        "def printer(msg):\n",
        "    print(msg)\n",
        "\n",
        "printer(\"Hello\")"
      ],
      "metadata": {
        "colab": {
          "base_uri": "https://localhost:8080/"
        },
        "id": "F57e3YOZSbe8",
        "outputId": "a023b5fc-1a16-46e0-b8c2-0f22612f5991"
      },
      "execution_count": 33,
      "outputs": [
        {
          "output_type": "stream",
          "name": "stdout",
          "text": [
            "***************\n",
            "%%%%%%%%%%%%%%%\n",
            "Hello\n",
            "%%%%%%%%%%%%%%%\n",
            "***************\n"
          ]
        }
      ]
    },
    {
      "cell_type": "markdown",
      "source": [
        "## Map, Filter, Reduce"
      ],
      "metadata": {
        "id": "LwC0EvujUDvC"
      }
    },
    {
      "cell_type": "markdown",
      "source": [
        "The map() function in python has the following syntax:\n",
        "\n",
        "map(func, *iterables)\n",
        "\n",
        "Where func is the function on which each element in iterables (as many as they are) would be applied on."
      ],
      "metadata": {
        "id": "xprbuqJnUsC7"
      }
    },
    {
      "cell_type": "markdown",
      "source": [
        "In Python 2, the map() function returns a list. In Python 3, however, the function returns a map object which is a generator object. To get the result as a list, the built-in list() function can be called on the map object. i.e. list(map(func, *iterables))"
      ],
      "metadata": {
        "id": "BMjkweQaU1ci"
      }
    },
    {
      "cell_type": "code",
      "source": [
        "# Python 3\n",
        "my_pets = ['alfred', 'tabitha', 'william', 'arla']\n",
        "\n",
        "uppered_pets = list(map(str.upper, my_pets))\n",
        "\n",
        "print(uppered_pets)"
      ],
      "metadata": {
        "colab": {
          "base_uri": "https://localhost:8080/"
        },
        "id": "7iGUolc8StKv",
        "outputId": "533bd614-a9a6-4487-a212-d58fc5291b7e"
      },
      "execution_count": 34,
      "outputs": [
        {
          "output_type": "stream",
          "name": "stdout",
          "text": [
            "['ALFRED', 'TABITHA', 'WILLIAM', 'ARLA']\n"
          ]
        }
      ]
    },
    {
      "cell_type": "code",
      "source": [
        "# Python 3\n",
        "\n",
        "circle_areas = [3.56773, 5.57668, 4.00914, 56.24241, 9.01344, 32.00013]\n",
        "\n",
        "result = list(map(round, circle_areas, range(1, 7)))\n",
        "\n",
        "print(result)"
      ],
      "metadata": {
        "colab": {
          "base_uri": "https://localhost:8080/"
        },
        "id": "njWWAbocU_3u",
        "outputId": "08795b96-37c6-4014-c673-dda309b8330c"
      },
      "execution_count": 35,
      "outputs": [
        {
          "output_type": "stream",
          "name": "stdout",
          "text": [
            "[3.6, 5.58, 4.009, 56.2424, 9.01344, 32.00013]\n"
          ]
        }
      ]
    },
    {
      "cell_type": "markdown",
      "source": [
        "The range(1, 7) function acts as the second argument to the round function (the number of required decimal places per iteration)."
      ],
      "metadata": {
        "id": "OGqFPM3wVmSB"
      }
    },
    {
      "cell_type": "code",
      "source": [
        "# Python 3\n",
        "\n",
        "circle_areas = [3.56773, 5.57668, 4.00914, 56.24241, 9.01344, 32.00013]\n",
        "\n",
        "result = list(map(round, circle_areas, range(1, 3)))\n",
        "\n",
        "print(result)"
      ],
      "metadata": {
        "colab": {
          "base_uri": "https://localhost:8080/"
        },
        "id": "d0OA6Pi8VTD2",
        "outputId": "7985befd-0aec-402f-88b2-24a4b1d96b81"
      },
      "execution_count": 36,
      "outputs": [
        {
          "output_type": "stream",
          "name": "stdout",
          "text": [
            "[3.6, 5.58]\n"
          ]
        }
      ]
    },
    {
      "cell_type": "code",
      "source": [
        "# Python 3\n",
        "\n",
        "my_strings = ['a', 'b', 'c', 'd', 'e']\n",
        "my_numbers = [1, 2, 3, 4, 5]\n",
        "\n",
        "results = list(map(lambda x, y: (x, y), my_strings, my_numbers))\n",
        "\n",
        "print(results)"
      ],
      "metadata": {
        "colab": {
          "base_uri": "https://localhost:8080/"
        },
        "id": "VSJ526J_VquP",
        "outputId": "75b32dfe-08a1-400c-81d8-2ccf0c9e0da2"
      },
      "execution_count": 37,
      "outputs": [
        {
          "output_type": "stream",
          "name": "stdout",
          "text": [
            "[('a', 1), ('b', 2), ('c', 3), ('d', 4), ('e', 5)]\n"
          ]
        }
      ]
    },
    {
      "cell_type": "markdown",
      "source": [
        "filter(), first of all, requires the function to return boolean values (true or false) and then passes each element in the iterable through the function, \"filtering\" away those that are false. It has the following syntax:\n",
        "\n",
        "filter(func, iterable)  \n",
        "\n",
        "Unlike map(), only one iterable is required. https://www.learnpython.org/en/Map%2C_Filter%2C_Reduce"
      ],
      "metadata": {
        "id": "QK3f4zcZWJAM"
      }
    },
    {
      "cell_type": "code",
      "source": [
        "# Python 3\n",
        "scores = [66, 90, 68, 59, 76, 60, 88, 74, 81, 65]\n",
        "\n",
        "def is_A_student(score):\n",
        "    return score > 75\n",
        "\n",
        "over_75 = list(filter(is_A_student, scores))\n",
        "\n",
        "print(over_75)"
      ],
      "metadata": {
        "colab": {
          "base_uri": "https://localhost:8080/"
        },
        "id": "DeNbOPF5V93d",
        "outputId": "19963426-7812-4a45-f4e6-b9d737d26176"
      },
      "execution_count": 38,
      "outputs": [
        {
          "output_type": "stream",
          "name": "stdout",
          "text": [
            "[90, 76, 88, 81]\n"
          ]
        }
      ]
    },
    {
      "cell_type": "code",
      "source": [
        "# Python 3\n",
        "dromes = (\"demigod\", \"rewire\", \"madam\", \"freer\", \"anutforajaroftuna\", \"kiosk\")\n",
        "\n",
        "palindromes = list(filter(lambda word: word == word[::-1], dromes))\n",
        "\n",
        "print(palindromes)"
      ],
      "metadata": {
        "colab": {
          "base_uri": "https://localhost:8080/"
        },
        "id": "4KfV2DFgWXvI",
        "outputId": "1578959f-f40c-43e8-f6e0-6424ee011614"
      },
      "execution_count": 39,
      "outputs": [
        {
          "output_type": "stream",
          "name": "stdout",
          "text": [
            "['madam', 'anutforajaroftuna']\n"
          ]
        }
      ]
    },
    {
      "cell_type": "code",
      "source": [
        "# Python 3\n",
        "from functools import reduce\n",
        "\n",
        "numbers = [3, 4, 6, 9, 34, 12]\n",
        "\n",
        "def custom_sum(first, second):\n",
        "    return first + second\n",
        "\n",
        "result = reduce(custom_sum, numbers)\n",
        "print(result)"
      ],
      "metadata": {
        "colab": {
          "base_uri": "https://localhost:8080/"
        },
        "id": "xM4IdDT8Wb-m",
        "outputId": "67c94fb7-f5ba-44c7-8979-702c94b1b926"
      },
      "execution_count": 40,
      "outputs": [
        {
          "output_type": "stream",
          "name": "stdout",
          "text": [
            "68\n"
          ]
        }
      ]
    },
    {
      "cell_type": "code",
      "source": [
        "# Python 3\n",
        "from functools import reduce\n",
        "\n",
        "numbers = [3, 4, 6, 9, 34, 12]\n",
        "\n",
        "def custom_sum(first, second):\n",
        "    return first + second\n",
        "\n",
        "result = reduce(custom_sum, numbers, 10)\n",
        "print(result)"
      ],
      "metadata": {
        "colab": {
          "base_uri": "https://localhost:8080/"
        },
        "id": "M-H7lEEJWtBb",
        "outputId": "a5bac450-aa91-45ed-a16b-bc3ee434a179"
      },
      "execution_count": 41,
      "outputs": [
        {
          "output_type": "stream",
          "name": "stdout",
          "text": [
            "78\n"
          ]
        }
      ]
    },
    {
      "cell_type": "markdown",
      "source": [
        "Special Symbols Used for passing arguments in Python:\n",
        "\n",
        "*args (Non-Keyword Arguments)\n",
        "**kwargs (Keyword Arguments)"
      ],
      "metadata": {
        "id": "Syhq2pawXOs_"
      }
    },
    {
      "cell_type": "markdown",
      "source": [
        "The special syntax **kwargs in function definitions in Python is used to pass a keyworded, variable-length argument list. We use the name kwargs with the double star."
      ],
      "metadata": {
        "id": "CgYc-DSYXjY5"
      }
    },
    {
      "cell_type": "code",
      "source": [
        "def myFun(**kwargs):\n",
        "    for key, value in kwargs.items():\n",
        "        print(\"%s == %s\" % (key, value))\n",
        "\n",
        "\n",
        "# Driver code\n",
        "myFun(first='Geeks', mid='for', last='Geeks')"
      ],
      "metadata": {
        "colab": {
          "base_uri": "https://localhost:8080/"
        },
        "id": "u75g2oRqW9EW",
        "outputId": "3abbf106-f22c-44c0-b550-42c0468a751d"
      },
      "execution_count": 42,
      "outputs": [
        {
          "output_type": "stream",
          "name": "stdout",
          "text": [
            "first == Geeks\n",
            "mid == for\n",
            "last == Geeks\n"
          ]
        }
      ]
    },
    {
      "cell_type": "code",
      "source": [],
      "metadata": {
        "id": "Guy6Bq8fXl0p"
      },
      "execution_count": null,
      "outputs": []
    }
  ]
}