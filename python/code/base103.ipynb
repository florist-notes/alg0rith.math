{
  "nbformat": 4,
  "nbformat_minor": 0,
  "metadata": {
    "colab": {
      "provenance": []
    },
    "kernelspec": {
      "name": "python3",
      "display_name": "Python 3"
    },
    "language_info": {
      "name": "python"
    }
  },
  "cells": [
    {
      "cell_type": "code",
      "execution_count": null,
      "metadata": {
        "colab": {
          "base_uri": "https://localhost:8080/"
        },
        "id": "GFM5AaTkZnjV",
        "outputId": "de790e92-bf16-4df7-dc2d-46585820bbd6"
      },
      "outputs": [
        {
          "output_type": "stream",
          "name": "stdout",
          "text": [
            "False\n",
            "False\n",
            "False\n",
            "False\n",
            "False\n",
            "False\n",
            "False\n",
            "False\n",
            "False\n",
            "False\n"
          ]
        }
      ],
      "source": [
        "bool(True)\n",
        "bool(False)\n",
        "\n",
        "# all of the below evaluate to False. Everything else will evaluate to True in Python.\n",
        "print(bool(None))\n",
        "print(bool(False))\n",
        "print(bool(0))\n",
        "print(bool(0.0))\n",
        "print(bool([]))\n",
        "print(bool({}))\n",
        "print(bool(()))\n",
        "print(bool(''))\n",
        "print(bool(range(0)))\n",
        "print(bool(set()))"
      ]
    },
    {
      "cell_type": "code",
      "source": [
        "# Remove from List\n",
        "[1,2,3].pop()    # 3 --> mutates original list, default index in the pop method is -1 (the last item)\n",
        "[1,2,3].pop(1)   # 2 --> mutates original list\n",
        "[1,2,3].remove(2)# None --> [1,3] Removes first occurrence of item or raises ValueError.\n",
        "[1,2,3].clear()  # None --> mutates original list and removes all items: []\n",
        "del [1,2,3][0] #"
      ],
      "metadata": {
        "id": "BWmwU-8wZoFN"
      },
      "execution_count": null,
      "outputs": []
    },
    {
      "cell_type": "code",
      "source": [
        "my_list = [4, 5, 6, 7]\n",
        "\n",
        "my_list.extend([100, 200]) # None --> Mutates original list to [1, 2, '3', True, 100, 200]\n",
        "my_list.insert(2, '!!!')"
      ],
      "metadata": {
        "id": "XDsq-io6ZxH5"
      },
      "execution_count": null,
      "outputs": []
    },
    {
      "cell_type": "code",
      "source": [
        "my_list"
      ],
      "metadata": {
        "colab": {
          "base_uri": "https://localhost:8080/"
        },
        "id": "rFoJ4Xa3aAil",
        "outputId": "c93bd3b7-5055-4d65-e85d-8ee96504bc1a"
      },
      "execution_count": null,
      "outputs": [
        {
          "output_type": "execute_result",
          "data": {
            "text/plain": [
              "[4, 5, '!!!', 6, 7, 100, 200]"
            ]
          },
          "metadata": {},
          "execution_count": 4
        }
      ]
    },
    {
      "cell_type": "code",
      "source": [
        "# Ordering\n",
        "[1,2,5,3].sort()         # None --> Mutates list to [1, 2, 3, 5]\n",
        "[1,2,5,3].sort(reverse=True) # None --> Mutates list to [5, 3, 2, 1]\n",
        "[1,2,5,3].reverse()      # None --> Mutates list to [3, 5, 2, 1]\n",
        "sorted([1,2,5,3])        # [1, 2, 3, 5] --> new list created\n",
        "list(reversed([1,2,5,3]))# [3, 5, 2, 1] --> reversed() returns an iterator"
      ],
      "metadata": {
        "colab": {
          "base_uri": "https://localhost:8080/"
        },
        "id": "Aj4u5P7OaBiM",
        "outputId": "dc434180-3534-493f-bdee-9e4184af7479"
      },
      "execution_count": null,
      "outputs": [
        {
          "output_type": "execute_result",
          "data": {
            "text/plain": [
              "[3, 5, 2, 1]"
            ]
          },
          "metadata": {},
          "execution_count": 5
        }
      ]
    },
    {
      "cell_type": "code",
      "source": [
        "# Get First and Last element of a list\n",
        "mList = [63, 21, 30, 14, 35, 26, 77, 18, 49, 10]\n",
        "first, *x, last = mList\n",
        "print(first) #63\n",
        "print(last) #10"
      ],
      "metadata": {
        "colab": {
          "base_uri": "https://localhost:8080/"
        },
        "id": "PP_wHTQYaR-F",
        "outputId": "aba08462-9698-4015-823f-d140108a9a78"
      },
      "execution_count": null,
      "outputs": [
        {
          "output_type": "stream",
          "name": "stdout",
          "text": [
            "63\n",
            "10\n"
          ]
        }
      ]
    },
    {
      "cell_type": "code",
      "source": [
        "sorted_by_second = sorted(['hi','you','man'], key=lambda el: el[1])# ['man', 'hi', 'you']"
      ],
      "metadata": {
        "id": "C8nGbay0acES"
      },
      "execution_count": null,
      "outputs": []
    },
    {
      "cell_type": "code",
      "source": [
        "sorted_by_second"
      ],
      "metadata": {
        "colab": {
          "base_uri": "https://localhost:8080/"
        },
        "id": "jpygTP_Rar02",
        "outputId": "37fb3774-8c14-467c-e5ff-23c8e336f2fa"
      },
      "execution_count": null,
      "outputs": [
        {
          "output_type": "execute_result",
          "data": {
            "text/plain": [
              "['man', 'hi', 'you']"
            ]
          },
          "metadata": {},
          "execution_count": 8
        }
      ]
    },
    {
      "cell_type": "code",
      "source": [
        "element_sum = [sum(pair) for pair in zip([1,2,3],[4,5,6])]"
      ],
      "metadata": {
        "id": "kguJMUunat8Y"
      },
      "execution_count": null,
      "outputs": []
    },
    {
      "cell_type": "code",
      "source": [
        "my_dict = {'name': 'Andrei Neagoie', 'age': 30, 'magic_power': False}\n",
        "my_dict['name']                      # Andrei Neagoie\n",
        "len(my_dict)                         # 3\n",
        "list(my_dict.keys())                 # ['name', 'age', 'magic_power']\n",
        "list(my_dict.values())               # ['Andrei Neagoie', 30, False]\n",
        "list(my_dict.items())                # [('name', 'Andrei Neagoie'), ('age', 30), ('magic_power', False)]\n",
        "my_dict['favourite_snack'] = 'Grapes'# {'name': 'Andrei Neagoie', 'age': 30, 'magic_power': False, 'favourite_snack': 'Grapes'}\n",
        "my_dict.get('age')                   # 30 --> Returns None if key does not exist.\n",
        "my_dict.get('ages', 0 )              # 0 --> Returns default (2nd param) if key is not found\n",
        "\n",
        "#Remove key\n",
        "del my_dict['name']\n",
        "my_dict.pop('name', None)"
      ],
      "metadata": {
        "id": "c9JjNAfVa1HL"
      },
      "execution_count": null,
      "outputs": []
    },
    {
      "cell_type": "code",
      "source": [
        "my_dict"
      ],
      "metadata": {
        "colab": {
          "base_uri": "https://localhost:8080/"
        },
        "id": "1k9sswIfbCO1",
        "outputId": "c12279fe-8214-45c3-e38b-75900baee8d5"
      },
      "execution_count": null,
      "outputs": [
        {
          "output_type": "execute_result",
          "data": {
            "text/plain": [
              "{'age': 30, 'magic_power': False, 'favourite_snack': 'Grapes'}"
            ]
          },
          "metadata": {},
          "execution_count": 11
        }
      ]
    },
    {
      "cell_type": "code",
      "source": [
        "my_dict.update({'cool': True})"
      ],
      "metadata": {
        "id": "0Pa3P5XKbIw0"
      },
      "execution_count": null,
      "outputs": []
    },
    {
      "cell_type": "code",
      "source": [
        "my_dict\n"
      ],
      "metadata": {
        "colab": {
          "base_uri": "https://localhost:8080/"
        },
        "id": "P7d90ekgbJcY",
        "outputId": "9d1189d8-68cc-4681-8f02-aeed3743df7f"
      },
      "execution_count": null,
      "outputs": [
        {
          "output_type": "execute_result",
          "data": {
            "text/plain": [
              "{'age': 30, 'magic_power': False, 'favourite_snack': 'Grapes', 'cool': True}"
            ]
          },
          "metadata": {},
          "execution_count": 13
        }
      ]
    },
    {
      "cell_type": "code",
      "source": [
        "{**my_dict, **{'cool2': True} }"
      ],
      "metadata": {
        "colab": {
          "base_uri": "https://localhost:8080/"
        },
        "id": "ele1lxLebLaS",
        "outputId": "5da04d3b-4986-446c-b5a2-eb216c27016b"
      },
      "execution_count": null,
      "outputs": [
        {
          "output_type": "execute_result",
          "data": {
            "text/plain": [
              "{'age': 30,\n",
              " 'magic_power': False,\n",
              " 'favourite_snack': 'Grapes',\n",
              " 'cool': True,\n",
              " 'cool2': True}"
            ]
          },
          "metadata": {},
          "execution_count": 14
        }
      ]
    },
    {
      "cell_type": "code",
      "source": [
        "new_dict = dict([['name','Andrei'],['age',32],['magic_power',False]])  # Creates a dict from collection of key-value pairs.\n",
        "new_dict = dict(zip(['name','age','magic_power'],['Andrei',32, False]))# Creates a dict from two collections.\n",
        "new_dict = my_dict.pop('favourite_snack')                              # Removes item from dictionary.\n",
        "# Dictionary Comprehension"
      ],
      "metadata": {
        "id": "Wp7PQyxObUHa"
      },
      "execution_count": null,
      "outputs": []
    },
    {
      "cell_type": "code",
      "source": [
        "my_tuple = ('apple','grapes','mango', 'grapes')\n",
        "apple, grapes, mango, grapes = my_tuple# Tuple unpacking"
      ],
      "metadata": {
        "id": "5KAUnx9-bZ5U"
      },
      "execution_count": null,
      "outputs": []
    },
    {
      "cell_type": "code",
      "source": [
        "my_tuple.index('grapes') # 1\n",
        "my_tuple.count('grapes') # 2"
      ],
      "metadata": {
        "colab": {
          "base_uri": "https://localhost:8080/"
        },
        "id": "WGCDjkg9bgEz",
        "outputId": "b23c6c1c-4d7f-4e5c-8013-0f653a90b0d3"
      },
      "execution_count": null,
      "outputs": [
        {
          "output_type": "execute_result",
          "data": {
            "text/plain": [
              "2"
            ]
          },
          "metadata": {},
          "execution_count": 17
        }
      ]
    },
    {
      "cell_type": "code",
      "source": [
        "for i, el in enumerate('helloo'):\n",
        "  print(f'{i}, {el}')"
      ],
      "metadata": {
        "id": "MRGZpHa9bjnf",
        "colab": {
          "base_uri": "https://localhost:8080/"
        },
        "outputId": "935453f2-5838-4d4f-f987-1f05b1d8bf93"
      },
      "execution_count": 18,
      "outputs": [
        {
          "output_type": "stream",
          "name": "stdout",
          "text": [
            "0, h\n",
            "1, e\n",
            "2, l\n",
            "3, l\n",
            "4, o\n",
            "5, o\n"
          ]
        }
      ]
    },
    {
      "cell_type": "code",
      "source": [
        "from collections import Counter\n",
        "colors = ['red', 'blue', 'yellow', 'blue', 'red', 'blue']\n",
        "counter = Counter(colors)# Counter({'blue': 3, 'red': 2, 'yellow': 1})\n",
        "counter.most_common()[0] # ('blue', 3)"
      ],
      "metadata": {
        "colab": {
          "base_uri": "https://localhost:8080/"
        },
        "id": "V8W4OnkFf-On",
        "outputId": "7363126a-0cae-4fca-9b35-cfd21ddda650"
      },
      "execution_count": 19,
      "outputs": [
        {
          "output_type": "execute_result",
          "data": {
            "text/plain": [
              "('blue', 3)"
            ]
          },
          "metadata": {},
          "execution_count": 19
        }
      ]
    },
    {
      "cell_type": "code",
      "source": [
        "from collections import namedtuple\n",
        "Person = namedtuple('Person', 'name height')\n",
        "person = Person('Jean-Luc', 187)\n",
        "f'{person.height}'           # '187'\n",
        "'{p.height}'.format(p=person)# '187'"
      ],
      "metadata": {
        "colab": {
          "base_uri": "https://localhost:8080/",
          "height": 35
        },
        "id": "FMhVcfwmgC3t",
        "outputId": "ac52ab7e-f41e-4f71-d74e-5e115b216e89"
      },
      "execution_count": 20,
      "outputs": [
        {
          "output_type": "execute_result",
          "data": {
            "text/plain": [
              "'187'"
            ],
            "application/vnd.google.colaboratory.intrinsic+json": {
              "type": "string"
            }
          },
          "metadata": {},
          "execution_count": 20
        }
      ]
    },
    {
      "cell_type": "code",
      "source": [
        "from collections import OrderedDict\n",
        "# Store each person's languages, keeping # track of who responded first.\n",
        "programmers = OrderedDict()\n",
        "programmers['Tim'] = ['python', 'javascript']\n",
        "programmers['Sarah'] = ['C++']\n",
        "programmers['Bia'] = ['Ruby', 'Python', 'Go']\n",
        "\n",
        "for name, langs in programmers.items():\n",
        "    print(name + '-->')\n",
        "    for lang in langs:\n",
        "      print('\\t' + lang)"
      ],
      "metadata": {
        "colab": {
          "base_uri": "https://localhost:8080/"
        },
        "id": "b7F80kHrgTok",
        "outputId": "c501a1a9-a616-4177-b9d8-1b2b9434bace"
      },
      "execution_count": 21,
      "outputs": [
        {
          "output_type": "stream",
          "name": "stdout",
          "text": [
            "Tim-->\n",
            "\tpython\n",
            "\tjavascript\n",
            "Sarah-->\n",
            "\tC++\n",
            "Bia-->\n",
            "\tRuby\n",
            "\tPython\n",
            "\tGo\n"
          ]
        }
      ]
    },
    {
      "cell_type": "code",
      "source": [
        "any([False, True, False])# True if at least one item in collection is truthy, False if empty.\n",
        "all([True,1,3,True])     # True if all items in collection are true"
      ],
      "metadata": {
        "colab": {
          "base_uri": "https://localhost:8080/"
        },
        "id": "m5sZWzkUgZsE",
        "outputId": "733e10d0-7e5e-46a3-aea0-0974e844c9d4"
      },
      "execution_count": 22,
      "outputs": [
        {
          "output_type": "execute_result",
          "data": {
            "text/plain": [
              "True"
            ]
          },
          "metadata": {},
          "execution_count": 22
        }
      ]
    },
    {
      "cell_type": "code",
      "source": [],
      "metadata": {
        "id": "s4AGYSdtgj0w"
      },
      "execution_count": null,
      "outputs": []
    }
  ]
}